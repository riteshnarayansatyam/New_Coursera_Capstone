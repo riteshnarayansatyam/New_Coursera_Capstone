# import pandas library
import pandas as pd
#import Numpy library
import numpy as np
print ("Hello Capstone Project Course ! ")
